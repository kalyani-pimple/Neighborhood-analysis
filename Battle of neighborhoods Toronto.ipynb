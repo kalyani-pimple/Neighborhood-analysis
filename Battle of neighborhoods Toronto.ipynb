{
    "cells": [
        {
            "metadata": {},
            "cell_type": "code",
            "source": "import requests\nfrom bs4 import BeautifulSoup\nimport pandas as pd",
            "execution_count": 41,
            "outputs": []
        },
        {
            "metadata": {},
            "cell_type": "code",
            "source": "page = requests.get(\"https://en.wikipedia.org/wiki/List_of_postal_codes_of_Canada:_M\")\nsoup = BeautifulSoup(page.content, 'html.parser')",
            "execution_count": 42,
            "outputs": []
        },
        {
            "metadata": {},
            "cell_type": "code",
            "source": "table = soup.find('tbody')\nrows = table.select('tr')\nrow = [r.get_text() for r in rows]",
            "execution_count": 43,
            "outputs": []
        },
        {
            "metadata": {},
            "cell_type": "code",
            "source": "#create and clean dataframe\ndf = pd.DataFrame(row)\ndf1 = df[0].str.split('\\n', expand=True)\ndf2 = df1.rename(columns=df1.iloc[0])\ndf3 = df2.drop(df2.index[0])\ndf3.head()",
            "execution_count": null,
            "outputs": []
        },
        {
            "metadata": {},
            "cell_type": "markdown",
            "source": "<b>Ignore cells with Not assigned Borough<b>"
        },
        {
            "metadata": {},
            "cell_type": "code",
            "source": "df4 = df3[df3.Borough != 'Not assigned']\ndf4.head()",
            "execution_count": 48,
            "outputs": [
                {
                    "output_type": "execute_result",
                    "execution_count": 48,
                    "data": {
                        "text/plain": "    Postal Code             Borough    \\\n3           M3A          North York     \n4           M4A          North York     \n5           M5A    Downtown Toronto     \n6           M6A          North York     \n7           M7A    Downtown Toronto     \n\n                                 Neighbourhood    \n3                                    Parkwoods    \n4                             Victoria Village    \n5                    Regent Park, Harbourfront    \n6             Lawrence Manor, Lawrence Heights    \n7  Queen's Park, Ontario Provincial Government    ",
                        "text/html": "<div>\n<style scoped>\n    .dataframe tbody tr th:only-of-type {\n        vertical-align: middle;\n    }\n\n    .dataframe tbody tr th {\n        vertical-align: top;\n    }\n\n    .dataframe thead th {\n        text-align: right;\n    }\n</style>\n<table border=\"1\" class=\"dataframe\">\n  <thead>\n    <tr style=\"text-align: right;\">\n      <th></th>\n      <th></th>\n      <th>Postal Code</th>\n      <th></th>\n      <th>Borough</th>\n      <th></th>\n      <th>Neighbourhood</th>\n      <th></th>\n    </tr>\n  </thead>\n  <tbody>\n    <tr>\n      <th>3</th>\n      <td></td>\n      <td>M3A</td>\n      <td></td>\n      <td>North York</td>\n      <td></td>\n      <td>Parkwoods</td>\n      <td></td>\n    </tr>\n    <tr>\n      <th>4</th>\n      <td></td>\n      <td>M4A</td>\n      <td></td>\n      <td>North York</td>\n      <td></td>\n      <td>Victoria Village</td>\n      <td></td>\n    </tr>\n    <tr>\n      <th>5</th>\n      <td></td>\n      <td>M5A</td>\n      <td></td>\n      <td>Downtown Toronto</td>\n      <td></td>\n      <td>Regent Park, Harbourfront</td>\n      <td></td>\n    </tr>\n    <tr>\n      <th>6</th>\n      <td></td>\n      <td>M6A</td>\n      <td></td>\n      <td>North York</td>\n      <td></td>\n      <td>Lawrence Manor, Lawrence Heights</td>\n      <td></td>\n    </tr>\n    <tr>\n      <th>7</th>\n      <td></td>\n      <td>M7A</td>\n      <td></td>\n      <td>Downtown Toronto</td>\n      <td></td>\n      <td>Queen's Park, Ontario Provincial Government</td>\n      <td></td>\n    </tr>\n  </tbody>\n</table>\n</div>"
                    },
                    "metadata": {}
                }
            ]
        },
        {
            "metadata": {},
            "cell_type": "code",
            "source": "df5 = df4.groupby(['Postal Code', 'Borough'], sort = False).agg(','.join)\ndf5.reset_index(inplace = True)\ndf5.head()",
            "execution_count": 50,
            "outputs": [
                {
                    "output_type": "execute_result",
                    "execution_count": 50,
                    "data": {
                        "text/plain": "  Postal Code           Borough        \\\n0         M3A        North York         \n1         M4A        North York         \n2         M5A  Downtown Toronto         \n3         M6A        North York         \n4         M7A  Downtown Toronto         \n\n                                 Neighbourhood    \n0                                    Parkwoods    \n1                             Victoria Village    \n2                    Regent Park, Harbourfront    \n3             Lawrence Manor, Lawrence Heights    \n4  Queen's Park, Ontario Provincial Government    ",
                        "text/html": "<div>\n<style scoped>\n    .dataframe tbody tr th:only-of-type {\n        vertical-align: middle;\n    }\n\n    .dataframe tbody tr th {\n        vertical-align: top;\n    }\n\n    .dataframe thead th {\n        text-align: right;\n    }\n</style>\n<table border=\"1\" class=\"dataframe\">\n  <thead>\n    <tr style=\"text-align: right;\">\n      <th></th>\n      <th>Postal Code</th>\n      <th>Borough</th>\n      <th></th>\n      <th></th>\n      <th></th>\n      <th>Neighbourhood</th>\n      <th></th>\n    </tr>\n  </thead>\n  <tbody>\n    <tr>\n      <th>0</th>\n      <td>M3A</td>\n      <td>North York</td>\n      <td></td>\n      <td></td>\n      <td></td>\n      <td>Parkwoods</td>\n      <td></td>\n    </tr>\n    <tr>\n      <th>1</th>\n      <td>M4A</td>\n      <td>North York</td>\n      <td></td>\n      <td></td>\n      <td></td>\n      <td>Victoria Village</td>\n      <td></td>\n    </tr>\n    <tr>\n      <th>2</th>\n      <td>M5A</td>\n      <td>Downtown Toronto</td>\n      <td></td>\n      <td></td>\n      <td></td>\n      <td>Regent Park, Harbourfront</td>\n      <td></td>\n    </tr>\n    <tr>\n      <th>3</th>\n      <td>M6A</td>\n      <td>North York</td>\n      <td></td>\n      <td></td>\n      <td></td>\n      <td>Lawrence Manor, Lawrence Heights</td>\n      <td></td>\n    </tr>\n    <tr>\n      <th>4</th>\n      <td>M7A</td>\n      <td>Downtown Toronto</td>\n      <td></td>\n      <td></td>\n      <td></td>\n      <td>Queen's Park, Ontario Provincial Government</td>\n      <td></td>\n    </tr>\n  </tbody>\n</table>\n</div>"
                    },
                    "metadata": {}
                }
            ]
        },
        {
            "metadata": {},
            "cell_type": "markdown",
            "source": "<b>Combine neighborhood which have same postalcode<b>"
        },
        {
            "metadata": {},
            "cell_type": "code",
            "source": "df5 = df4.groupby(['Postal Code', 'Borough'], sort = False).agg(','.join)\ndf5.reset_index(inplace = True)\ndf5.head()",
            "execution_count": 52,
            "outputs": [
                {
                    "output_type": "execute_result",
                    "execution_count": 52,
                    "data": {
                        "text/plain": "  Postal Code           Borough        \\\n0         M3A        North York         \n1         M4A        North York         \n2         M5A  Downtown Toronto         \n3         M6A        North York         \n4         M7A  Downtown Toronto         \n\n                                 Neighbourhood    \n0                                    Parkwoods    \n1                             Victoria Village    \n2                    Regent Park, Harbourfront    \n3             Lawrence Manor, Lawrence Heights    \n4  Queen's Park, Ontario Provincial Government    ",
                        "text/html": "<div>\n<style scoped>\n    .dataframe tbody tr th:only-of-type {\n        vertical-align: middle;\n    }\n\n    .dataframe tbody tr th {\n        vertical-align: top;\n    }\n\n    .dataframe thead th {\n        text-align: right;\n    }\n</style>\n<table border=\"1\" class=\"dataframe\">\n  <thead>\n    <tr style=\"text-align: right;\">\n      <th></th>\n      <th>Postal Code</th>\n      <th>Borough</th>\n      <th></th>\n      <th></th>\n      <th></th>\n      <th>Neighbourhood</th>\n      <th></th>\n    </tr>\n  </thead>\n  <tbody>\n    <tr>\n      <th>0</th>\n      <td>M3A</td>\n      <td>North York</td>\n      <td></td>\n      <td></td>\n      <td></td>\n      <td>Parkwoods</td>\n      <td></td>\n    </tr>\n    <tr>\n      <th>1</th>\n      <td>M4A</td>\n      <td>North York</td>\n      <td></td>\n      <td></td>\n      <td></td>\n      <td>Victoria Village</td>\n      <td></td>\n    </tr>\n    <tr>\n      <th>2</th>\n      <td>M5A</td>\n      <td>Downtown Toronto</td>\n      <td></td>\n      <td></td>\n      <td></td>\n      <td>Regent Park, Harbourfront</td>\n      <td></td>\n    </tr>\n    <tr>\n      <th>3</th>\n      <td>M6A</td>\n      <td>North York</td>\n      <td></td>\n      <td></td>\n      <td></td>\n      <td>Lawrence Manor, Lawrence Heights</td>\n      <td></td>\n    </tr>\n    <tr>\n      <th>4</th>\n      <td>M7A</td>\n      <td>Downtown Toronto</td>\n      <td></td>\n      <td></td>\n      <td></td>\n      <td>Queen's Park, Ontario Provincial Government</td>\n      <td></td>\n    </tr>\n  </tbody>\n</table>\n</div>"
                    },
                    "metadata": {}
                }
            ]
        },
        {
            "metadata": {},
            "cell_type": "markdown",
            "source": "<b> Change value of neighbourhood to be like Borough<b>"
        },
        {
            "metadata": {},
            "cell_type": "code",
            "source": "df6 = df5.replace(\"Not assigned\", \"Queen's Park\")\ndf6.head()",
            "execution_count": 54,
            "outputs": [
                {
                    "output_type": "execute_result",
                    "execution_count": 54,
                    "data": {
                        "text/plain": "  Postal Code           Borough        \\\n0         M3A        North York         \n1         M4A        North York         \n2         M5A  Downtown Toronto         \n3         M6A        North York         \n4         M7A  Downtown Toronto         \n\n                                 Neighbourhood    \n0                                    Parkwoods    \n1                             Victoria Village    \n2                    Regent Park, Harbourfront    \n3             Lawrence Manor, Lawrence Heights    \n4  Queen's Park, Ontario Provincial Government    ",
                        "text/html": "<div>\n<style scoped>\n    .dataframe tbody tr th:only-of-type {\n        vertical-align: middle;\n    }\n\n    .dataframe tbody tr th {\n        vertical-align: top;\n    }\n\n    .dataframe thead th {\n        text-align: right;\n    }\n</style>\n<table border=\"1\" class=\"dataframe\">\n  <thead>\n    <tr style=\"text-align: right;\">\n      <th></th>\n      <th>Postal Code</th>\n      <th>Borough</th>\n      <th></th>\n      <th></th>\n      <th></th>\n      <th>Neighbourhood</th>\n      <th></th>\n    </tr>\n  </thead>\n  <tbody>\n    <tr>\n      <th>0</th>\n      <td>M3A</td>\n      <td>North York</td>\n      <td></td>\n      <td></td>\n      <td></td>\n      <td>Parkwoods</td>\n      <td></td>\n    </tr>\n    <tr>\n      <th>1</th>\n      <td>M4A</td>\n      <td>North York</td>\n      <td></td>\n      <td></td>\n      <td></td>\n      <td>Victoria Village</td>\n      <td></td>\n    </tr>\n    <tr>\n      <th>2</th>\n      <td>M5A</td>\n      <td>Downtown Toronto</td>\n      <td></td>\n      <td></td>\n      <td></td>\n      <td>Regent Park, Harbourfront</td>\n      <td></td>\n    </tr>\n    <tr>\n      <th>3</th>\n      <td>M6A</td>\n      <td>North York</td>\n      <td></td>\n      <td></td>\n      <td></td>\n      <td>Lawrence Manor, Lawrence Heights</td>\n      <td></td>\n    </tr>\n    <tr>\n      <th>4</th>\n      <td>M7A</td>\n      <td>Downtown Toronto</td>\n      <td></td>\n      <td></td>\n      <td></td>\n      <td>Queen's Park, Ontario Provincial Government</td>\n      <td></td>\n    </tr>\n  </tbody>\n</table>\n</div>"
                    },
                    "metadata": {}
                }
            ]
        },
        {
            "metadata": {},
            "cell_type": "code",
            "source": "df6.shape",
            "execution_count": 55,
            "outputs": [
                {
                    "output_type": "execute_result",
                    "execution_count": 55,
                    "data": {
                        "text/plain": "(103, 7)"
                    },
                    "metadata": {}
                }
            ]
        },
        {
            "metadata": {},
            "cell_type": "code",
            "source": "",
            "execution_count": null,
            "outputs": []
        }
    ],
    "metadata": {
        "kernelspec": {
            "name": "python3",
            "display_name": "Python 3.7",
            "language": "python"
        },
        "language_info": {
            "name": "python",
            "version": "3.7.9",
            "mimetype": "text/x-python",
            "codemirror_mode": {
                "name": "ipython",
                "version": 3
            },
            "pygments_lexer": "ipython3",
            "nbconvert_exporter": "python",
            "file_extension": ".py"
        }
    },
    "nbformat": 4,
    "nbformat_minor": 1
}